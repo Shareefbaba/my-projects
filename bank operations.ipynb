{
 "cells": [
  {
   "cell_type": "code",
   "execution_count": null,
   "id": "43c6c981",
   "metadata": {},
   "outputs": [
    {
     "name": "stdout",
     "output_type": "stream",
     "text": [
      "hello welcome to sbi bank\n",
      "enter your name:-shareef\n",
      "welcome shareef please select below options\n",
      "d-deposit\n",
      " w-withdraw\n",
      " e-exit\n",
      "choose an optiond\n",
      "welcome to deposit section\n",
      "enter amount:-10000\n",
      "balance after deposit is :- 10000.0\n",
      "welcome shareef please select below options\n",
      "d-deposit\n",
      " w-withdraw\n",
      " e-exit\n",
      "choose an optionw\n",
      "welcome to withdraw section\n",
      "enter amount:-100\n",
      "balance after withdraw is :- 9900.0\n",
      "welcome shareef please select below options\n",
      "d-deposit\n",
      " w-withdraw\n",
      " e-exit\n"
     ]
    }
   ],
   "source": [
    "import sys\n",
    "class customer :\n",
    "    bank='state bank of india'\n",
    "    def __init__(self,name,balance=0.0):\n",
    "        self.name=name\n",
    "        self.balance=balance\n",
    "    def deposit(self,amount):\n",
    "        self.balance=self.balance + amount\n",
    "        print('balance after deposit is :-',self.balance)\n",
    "    def withdraw(self,amount):\n",
    "        \n",
    "        if amount > self.balance :\n",
    "            \n",
    "            print('insufficent funds')\n",
    "            sys.exit()\n",
    "        self.balance=self.balance-amount\n",
    "        print('balance after withdraw is :-',self.balance)\n",
    "    \n",
    "print('hello welcome to sbi bank')\n",
    "customer_name=input('enter your name:-')\n",
    "c=customer(customer_name)\n",
    "while True:\n",
    "    print('welcome',customer_name,'please select below options')\n",
    "    print('d-deposit\\n w-withdraw\\n e-exit')\n",
    "    option=input('choose an option')\n",
    "    if option =='d' or option =='D':\n",
    "        print('welcome to deposit section')\n",
    "        amount=float(input('enter amount:-'))\n",
    "        c.deposit(amount)\n",
    "    elif option =='w' or option =='W':\n",
    "        print('welcome to withdraw section')\n",
    "        amount=float(input('enter amount:-'))\n",
    "        c.withdraw(amount)\n",
    "    elif option == 'e' or option == 'E':\n",
    "        print('thanks for banking-EXIT')\n",
    "    else :\n",
    "        print('invalid option pls choose valid option')\n",
    "        \n"
   ]
  },
  {
   "cell_type": "code",
   "execution_count": null,
   "id": "363d7785",
   "metadata": {},
   "outputs": [],
   "source": []
  }
 ],
 "metadata": {
  "kernelspec": {
   "display_name": "Python 3 (ipykernel)",
   "language": "python",
   "name": "python3"
  },
  "language_info": {
   "codemirror_mode": {
    "name": "ipython",
    "version": 3
   },
   "file_extension": ".py",
   "mimetype": "text/x-python",
   "name": "python",
   "nbconvert_exporter": "python",
   "pygments_lexer": "ipython3",
   "version": "3.11.5"
  }
 },
 "nbformat": 4,
 "nbformat_minor": 5
}
